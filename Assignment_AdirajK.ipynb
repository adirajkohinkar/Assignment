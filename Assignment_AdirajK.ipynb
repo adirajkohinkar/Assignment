{
 "cells": [
  {
   "cell_type": "code",
   "execution_count": 5,
   "id": "ffb56ede",
   "metadata": {},
   "outputs": [],
   "source": [
    "import numpy as np\n",
    "import plotly.graph_objs as go\n",
    "from plotly.subplots import make_subplots\n",
    "\n",
    "alpha=float()\n",
    "def heat_equation_1d(alpha, L, dx, dt, T0, T_L, t_max):\n",
    "    \"\"\"\n",
    "    Solves the 1D heat equation with the given parameters.\n",
    "    \"\"\"\n",
    "    # Calculate the number of grid points\n",
    "    N = int(L / dx) + 1\n",
    "\n",
    "    # Calculate the number of time steps\n",
    "    M = int(t_max / dt) + 1\n",
    "\n",
    "    # Create arrays to hold the temperature at each grid point and time step\n",
    "    T = np.zeros((M, N))\n",
    "\n",
    "    # Set the initial temperature distribution\n",
    "    T[0,:] = T0\n",
    "\n",
    "    # Set the boundary conditions\n",
    "    T[:,0] = T0\n",
    "    T[:,-1] = T_L\n",
    "\n",
    "    # Calculate the coefficients for the finite difference scheme\n",
    "    r = alpha * dt / dx**2\n",
    "\n",
    "    # Iterate over time steps\n",
    "    for k in range(1, M):\n",
    "        # Iterate over grid points\n",
    "        for i in range(1, N-1):\n",
    "            T[k,i] = (1-2*r)*T[k-1,i] + r*T[k-1,i-1] + r*T[k-1,i+1]\n",
    "\n",
    "    # Return the temperature distribution\n",
    "    return T\n",
    "\n",
    "def heat_equation_2d(alpha, Lx, Ly, dx, dy, dt, T0, T_L, t_max):\n",
    "    \"\"\"\n",
    "    Solves the 2D heat equation with the given parameters.\n",
    "    \"\"\"\n",
    "    # Calculate the number of grid points in each dimension\n",
    "    Nx = int(Lx / dx) + 1\n",
    "    Ny = int(Ly / dy) + 1\n",
    "\n",
    "    # Calculate the number of time steps\n",
    "    M = int(t_max / dt) + 1\n",
    "\n",
    "    # Create arrays to hold the temperature at each grid point and time step\n",
    "    T = np.zeros((M, Nx, Ny))\n",
    "\n",
    "    # Set the initial temperature distribution\n",
    "    T[0,:,:] = T0\n",
    "\n",
    "    # Set the boundary conditions\n",
    "    T[:,0,:] = T0\n",
    "    T[:,-1,:] = T_L\n",
    "    T[:,:,0] = T0\n",
    "    T[:,:,-1] = T_L\n",
    "\n",
    "    # Calculate the coefficients for the finite difference scheme\n",
    "    rx = alpha * dt / dx**2\n",
    "    ry = alpha * dt / dy**2\n",
    "\n",
    "    # Iterate over time steps\n",
    "    for k in range(1, M):\n",
    "        # Iterate over grid points\n",
    "        for i in range(1, Nx-1):\n",
    "            for j in range(1, Ny-1):\n",
    "                T[k,i,j] = (1-2*rx-2*ry)*T[k-1,i,j] + rx*(T[k-1,i-1,j] + T[k-1,i+1,j]) + ry*(T[k-1,i,j-1] + T[k-1,i,j+1])\n",
    "\n",
    "    # Return the temperature distribution\n",
    "    return T\n",
    "\n",
    "def heat_equation_3d(alpha, Lx, Ly, Lz, dx, dy, dz, dt, T0, T_L, t_max):\n",
    "    \"\"\"\n",
    "    Solves the 3D heat equation with the given parameters.\n",
    "    \"\"\"\n",
    "    # Calculate the number of grid points in each dimension\n",
    "    Nx = int(Lx / dx) + 1\n"
   ]
  },
  {
   "cell_type": "code",
   "execution_count": 8,
   "id": "8842d11f",
   "metadata": {},
   "outputs": [
    {
     "data": {
      "text/plain": [
       "array([[ 0.        ,  0.        ,  0.        , ...,  0.        ,\n",
       "         0.        , 20.        ],\n",
       "       [ 0.        ,  0.        ,  0.        , ...,  0.        ,\n",
       "         2.        , 20.        ],\n",
       "       [ 0.        ,  0.        ,  0.        , ...,  0.2       ,\n",
       "         3.6       , 20.        ],\n",
       "       ...,\n",
       "       [ 0.        ,  1.92219775,  3.85201114, ..., 15.85200897,\n",
       "        17.92219641, 20.        ],\n",
       "       [ 0.        ,  1.92295932,  3.85345973, ..., 15.85345764,\n",
       "        17.92295803, 20.        ],\n",
       "       [ 0.        ,  1.92371343,  3.85489414, ..., 15.85489213,\n",
       "        17.92371218, 20.        ]])"
      ]
     },
     "execution_count": 8,
     "metadata": {},
     "output_type": "execute_result"
    }
   ],
   "source": [
    "heat_equation_1d(0.0001,0.1,0.01,0.1,0,20,40)"
   ]
  },
  {
   "cell_type": "code",
   "execution_count": null,
   "id": "9699ea7a",
   "metadata": {},
   "outputs": [],
   "source": []
  }
 ],
 "metadata": {
  "kernelspec": {
   "display_name": "Python 3 (ipykernel)",
   "language": "python",
   "name": "python3"
  },
  "language_info": {
   "codemirror_mode": {
    "name": "ipython",
    "version": 3
   },
   "file_extension": ".py",
   "mimetype": "text/x-python",
   "name": "python",
   "nbconvert_exporter": "python",
   "pygments_lexer": "ipython3",
   "version": "3.9.12"
  }
 },
 "nbformat": 4,
 "nbformat_minor": 5
}
